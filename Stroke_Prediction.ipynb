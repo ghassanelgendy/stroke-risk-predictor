{
  "cells": [
    {
      "cell_type": "code",
      "execution_count": null,
      "metadata": {
        "id": "GRqTq1LZFC6r"
      },
      "outputs": [],
      "source": [
        "import numpy as np\n",
        "import pandas as pd"
      ]
    },
    {
      "cell_type": "code",
      "execution_count": null,
      "metadata": {
        "colab": {
          "base_uri": "https://localhost:8080/",
          "height": 179
        },
        "id": "DZFb937YlCPO",
        "outputId": "f85709dc-602d-41a7-c0ba-1c244f4d8f45"
      },
      "outputs": [],
      "source": [
        "\"\"\"\n",
        "Reads the 'healthcare-dataset-stroke-data.csv' file and stores it in a pandas dataframe named 'data'.\n",
        "\"\"\"\n",
        "\n",
        "data = pd.read_csv('healthcare-dataset-stroke-data.csv')\n"
      ]
    },
    {
      "cell_type": "code",
      "execution_count": null,
      "metadata": {
        "colab": {
          "base_uri": "https://localhost:8080/"
        },
        "id": "GSEmlpx1oV-Y",
        "outputId": "118fb1fe-bdd1-48e0-8ef8-325ea931a848"
      },
      "outputs": [],
      "source": [
        "# Checking for null values\n",
        "data.isnull().sum()"
      ]
    },
    {
      "cell_type": "code",
      "execution_count": null,
      "metadata": {
        "colab": {
          "base_uri": "https://localhost:8080/"
        },
        "id": "drkWFknElm6X",
        "outputId": "4c87abba-f035-4448-a42f-196f7e8f0ee6"
      },
      "outputs": [],
      "source": [
        "# Filling null values of bmi column with mean value\n",
        "data['bmi'].fillna(data['bmi'].mean(),inplace = True)\n",
        "data.isnull().sum()"
      ]
    },
    {
      "cell_type": "code",
      "execution_count": null,
      "metadata": {
        "id": "Twzp4drdm3Wp"
      },
      "outputs": [],
      "source": [
        "# Dropping non usable data"
      ]
    },
    {
      "cell_type": "code",
      "execution_count": null,
      "metadata": {
        "colab": {
          "base_uri": "https://localhost:8080/",
          "height": 261
        },
        "id": "m7udczyinpte",
        "outputId": "ce99e5c1-9c47-4df6-ba38-d47cf04b261d"
      },
      "outputs": [],
      "source": [
        "data.head()"
      ]
    },
    {
      "cell_type": "code",
      "execution_count": null,
      "metadata": {
        "colab": {
          "base_uri": "https://localhost:8080/",
          "height": 572
        },
        "id": "OrZAaKeQ6hgj",
        "outputId": "fc519475-8eba-44e5-aaa4-3b2600ee352d"
      },
      "outputs": [],
      "source": [
        "# Graphing the 'ever_married' column with the Stroke rate to see if it affects the data\n",
        "import matplotlib.pyplot as plt\n",
        "plt.figure(figsize=(8, 6))\n",
        "grouped = data.groupby(\"ever_married\")[\"stroke\"].mean()\n",
        "\n",
        "grouped.plot(kind=\"bar\", color=[\"blue\", \"orange\"])\n",
        "\n",
        "plt.xlabel(\"Ever Married\")\n",
        "plt.ylabel(\"Stroke Rate\")\n",
        "plt.title(\"Stroke Rate by Marital Status\")\n",
        "\n",
        "plt.show()\n"
      ]
    },
    {
      "cell_type": "code",
      "execution_count": null,
      "metadata": {
        "colab": {
          "base_uri": "https://localhost:8080/",
          "height": 261
        },
        "id": "08hH1aLqh2tQ",
        "outputId": "eb59f979-5849-4024-ab4d-99c5c06f5f2c"
      },
      "outputs": [],
      "source": [
        "data.head()"
      ]
    },
    {
      "cell_type": "code",
      "execution_count": null,
      "metadata": {
        "colab": {
          "base_uri": "https://localhost:8080/"
        },
        "id": "qZ61xA99rk4_",
        "outputId": "f0a0d759-9b41-4db7-87f4-59edb3830cdf"
      },
      "outputs": [],
      "source": [
        "unknown_count = (data['smoking_status'] == 'Unknown').sum()\n",
        "print(unknown_count)\n",
        "temp1 = (data['smoking_status']=='smokes').sum()\n",
        "temp2 = (data['smoking_status']=='never smoked').sum()\n",
        "temp3 =(data['smoking_status']=='formerly smoked').sum()\n",
        "print(temp1)\n",
        "print(temp2)\n",
        "print(temp3)"
      ]
    },
    {
      "cell_type": "code",
      "execution_count": null,
      "metadata": {
        "colab": {
          "base_uri": "https://localhost:8080/"
        },
        "id": "LFsV2uUMwISZ",
        "outputId": "959bfc35-b75c-4c3e-f913-8f306ac32c0d"
      },
      "outputs": [],
      "source": [
        "(data['work_type']=='Never_worked').sum()"
      ]
    },
    {
      "cell_type": "code",
      "execution_count": null,
      "metadata": {
        "colab": {
          "base_uri": "https://localhost:8080/",
          "height": 800
        },
        "id": "zKMoS2OmE32j",
        "outputId": "173dce8d-a42e-4eb6-8a1f-fd47a0c3ad34"
      },
      "outputs": [],
      "source": [
        "# encoding the data****\n",
        "data = data[data['gender'] != 'Other']\n",
        "data['ever_married'] = data['ever_married'].replace({'Yes': 1, 'No': 0})\n",
        "data[\"gender\"] = data[\"gender\"].replace({'Male' : 1,'Female' : 0})\n",
        "data[\"work_type\"] = data[\"work_type\"].replace({'children' : 0, 'Private' : 1,'Govt_job' : 1,'Self-employed': 2,'Never_worked':3})\n",
        "data[\"smoking_status\"] = data[\"smoking_status\"].replace({'Unknown' : 0,'never smoked' : 0,'formerly smoked' : 1,'smokes' : 2})\n",
        "\n",
        "data.head(10)"
      ]
    },
    {
      "cell_type": "code",
      "execution_count": null,
      "metadata": {
        "colab": {
          "base_uri": "https://localhost:8080/"
        },
        "id": "N1lauQdtpElo",
        "outputId": "cf430027-dc69-44af-83f1-cd6631ade37c"
      },
      "outputs": [],
      "source": [
        "data.dtypes"
      ]
    },
    {
      "cell_type": "code",
      "execution_count": null,
      "metadata": {
        "colab": {
          "base_uri": "https://localhost:8080/",
          "height": 592
        },
        "id": "atuxgziJF9p-",
        "outputId": "0f053bd9-a59d-4547-d184-c80bfa82cf7e"
      },
      "outputs": [],
      "source": [
        "# visualizing the Residence Status column\n",
        "import matplotlib.pyplot as plt\n",
        "import seaborn as sns\n",
        "plt.figure(figsize=(8, 6))\n",
        "grouped = data.groupby(\"Residence_type\")[\"stroke\"].mean()\n",
        "\n",
        "grouped.plot(kind=\"bar\", color=[\"blue\", \"orange\"])\n",
        "\n",
        "plt.xlabel(\"Residence Type\")\n",
        "plt.ylabel(\"Stroke Rate\")\n",
        "plt.title(\"Stroke Rate by Residence Status\")\n",
        "\n",
        "plt.show()"
      ]
    },
    {
      "cell_type": "code",
      "execution_count": null,
      "metadata": {
        "id": "Lys64sVaHhc_"
      },
      "outputs": [],
      "source": [
        "data = data.drop(columns = \"Residence_type\")\n",
        "data = data.drop(columns = 'id')"
      ]
    },
    {
      "cell_type": "code",
      "execution_count": null,
      "metadata": {
        "colab": {
          "base_uri": "https://localhost:8080/",
          "height": 383
        },
        "id": "PI01m_A1H27U",
        "outputId": "5f8a8f6f-6f79-4ed7-ce62-f9bb3c62ad14"
      },
      "outputs": [],
      "source": [
        "data.head(10)"
      ]
    },
    {
      "cell_type": "code",
      "execution_count": null,
      "metadata": {
        "colab": {
          "base_uri": "https://localhost:8080/",
          "height": 320
        },
        "id": "NZs8lU_fIUEj",
        "outputId": "92a7313f-5dcf-46f7-a97c-6040a9dd4adf"
      },
      "outputs": [],
      "source": [
        "data.describe()"
      ]
    },
    {
      "cell_type": "code",
      "execution_count": null,
      "metadata": {
        "colab": {
          "base_uri": "https://localhost:8080/",
          "height": 564
        },
        "id": "npL81GOC6EVE",
        "outputId": "84a6dcad-098f-4cb6-e7a5-8bc4c93eb1c4"
      },
      "outputs": [],
      "source": [
        "import seaborn as sns\n",
        "import matplotlib.pyplot as plt\n",
        "\n",
        "# Filter the DataFrame to include only rows where 'stroke' is 1 (indicating stroke)\n",
        "stroke_df = data[data['stroke'] == 1]\n",
        "# Create a count plot to show the number of males and females with stroke\n",
        "\n",
        "plt.figure(figsize=(8, 6))\n",
        "sns.countplot(x='gender', data=stroke_df)\n",
        "plt.title('Number of Males and Females with Stroke')\n",
        "plt.xlabel('Gender')\n",
        "plt.ylabel('Count')\n",
        "plt.show()\n"
      ]
    },
    {
      "cell_type": "code",
      "execution_count": null,
      "metadata": {
        "colab": {
          "base_uri": "https://localhost:8080/",
          "height": 559
        },
        "id": "lhfJIItWPKXu",
        "outputId": "c22a21a4-4838-451e-8f75-2fb16740c568"
      },
      "outputs": [],
      "source": [
        "#To see if work_type affect the prediction or not\n",
        "\n",
        "plt.figure(figsize=(8, 6))\n",
        "grouped = data.groupby(\"work_type\")[\"stroke\"].mean()\n",
        "\n",
        "grouped.plot(kind=\"bar\", color=[\"blue\", \"orange\"])\n",
        "\n",
        "plt.xlabel(\"wrok_type\")\n",
        "plt.ylabel(\"Stroke Rate\")\n",
        "plt.title(\"Stroke Rate by work_type\")\n",
        "\n",
        "plt.show()"
      ]
    },
    {
      "cell_type": "code",
      "execution_count": null,
      "metadata": {
        "colab": {
          "base_uri": "https://localhost:8080/"
        },
        "id": "NrNrWNXXPmDB",
        "outputId": "418a11e7-9f50-40bc-f0e1-898add8c22a5"
      },
      "outputs": [],
      "source": [
        "data.info()"
      ]
    },
    {
      "cell_type": "code",
      "execution_count": null,
      "metadata": {
        "id": "q5IJV5FlrWrI"
      },
      "outputs": [],
      "source": [
        "scaled_data = data.drop('stroke',axis = 1)\n",
        "scaled_data = data.drop('gender',axis = 1)\n",
        "y = data['stroke']"
      ]
    },
    {
      "cell_type": "code",
      "execution_count": null,
      "metadata": {
        "id": "hfpgSwpMw9Is"
      },
      "outputs": [],
      "source": [
        "from sklearn.preprocessing import StandardScaler\n",
        "scaler = StandardScaler()\n",
        "scaled_data = scaler.fit_transform(scaled_data)\n",
        "# np.savetxt('scaled_data.csv',scaled_data, delimiter=',')\n",
        "# new_data = pd.read_csv('scaled_data.csv')\n",
        "# new_data.head()"
      ]
    },
    {
      "cell_type": "code",
      "execution_count": null,
      "metadata": {
        "id": "MrWPBhEyQhf4"
      },
      "outputs": [],
      "source": [
        "from sklearn.linear_model import LogisticRegression\n",
        "from sklearn.metrics import classification_report, confusion_matrix\n",
        "from sklearn.model_selection import train_test_split\n",
        "X_train, X_test, y_train, y_test = train_test_split(scaled_data, y, test_size = 0.25, random_state = 41)"
      ]
    },
    {
      "cell_type": "code",
      "execution_count": null,
      "metadata": {
        "colab": {
          "base_uri": "https://localhost:8080/"
        },
        "id": "iZInBpd0syR8",
        "outputId": "079d3855-b1e3-47ef-c907-5de0e972751a"
      },
      "outputs": [],
      "source": [
        "#applying logistic regresssion on the scaled data\n",
        "from sklearn.metrics import accuracy_score\n",
        "classifier = LogisticRegression()\n",
        "classifier.fit(X_train, y_train)\n",
        "y_pred = classifier.predict(X_test)\n",
        "accuracy = accuracy_score(y_test, y_pred)\n",
        "print(f\"Accuracy: {accuracy:.2f}\")"
      ]
    },
    {
      "cell_type": "code",
      "execution_count": null,
      "metadata": {
        "colab": {
          "base_uri": "https://localhost:8080/"
        },
        "id": "SyA8mIF6ch9b",
        "outputId": "28e96eb5-bea9-4982-9a86-227e5ae3b877"
      },
      "outputs": [],
      "source": [
        "cm = confusion_matrix(y_test, y_pred)\n",
        "cm\n",
        "cr=classification_report(y_test, y_pred)\n",
        "print(cr)"
      ]
    },
    {
      "cell_type": "code",
      "execution_count": null,
      "metadata": {
        "colab": {
          "base_uri": "https://localhost:8080/"
        },
        "id": "Jyn9jhPpITcY",
        "outputId": "bbed5788-e80f-4c1c-f687-45848ce89a06"
      },
      "outputs": [],
      "source": [
        "#applying KNN\n",
        "from sklearn.neighbors import KNeighborsClassifier\n",
        "\n",
        "knn_model=KNeighborsClassifier(n_neighbors=5)\n",
        "knn_model.fit(X_train,y_train)\n",
        "\n",
        "knn_y_preds=knn_model.predict(X_test)\n",
        "\n",
        "print(f\"Testing score = {accuracy_score(y_test,y_pred)}\")\n",
        "\n",
        "\n"
      ]
    }
  ],
  "metadata": {
    "colab": {
      "include_colab_link": true,
      "provenance": [],
      "toc_visible": true
    },
    "kernelspec": {
      "display_name": "Python 3",
      "name": "python3"
    },
    "language_info": {
      "name": "python",
      "version": "3.9.13"
    }
  },
  "nbformat": 4,
  "nbformat_minor": 0
}
